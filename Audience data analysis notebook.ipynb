{
    "cells": [
        {
            "cell_type": "markdown",
            "metadata": {
                "collapsed": true
            },
            "source": "Description \n\nThis is a sample test code"
        },
        {
            "cell_type": "code",
            "execution_count": 4,
            "metadata": {},
            "outputs": [
                {
                    "data": {
                        "text/html": "<div>\n<style scoped>\n    .dataframe tbody tr th:only-of-type {\n        vertical-align: middle;\n    }\n\n    .dataframe tbody tr th {\n        vertical-align: top;\n    }\n\n    .dataframe thead th {\n        text-align: right;\n    }\n</style>\n<table border=\"1\" class=\"dataframe\">\n  <thead>\n    <tr style=\"text-align: right;\">\n      <th></th>\n      <th>ACTIVITY AUDIENCES</th>\n      <th>Unnamed: 1</th>\n      <th>Unnamed: 2</th>\n      <th>Unnamed: 3</th>\n      <th>Unnamed: 4</th>\n      <th>Unnamed: 5</th>\n      <th>Unnamed: 6</th>\n      <th>Unnamed: 7</th>\n      <th>Unnamed: 8</th>\n      <th>Unnamed: 9</th>\n      <th>Unnamed: 10</th>\n    </tr>\n  </thead>\n  <tbody>\n    <tr>\n      <th>0</th>\n      <td>Activity Primary Domain</td>\n      <td>Activity Name</td>\n      <td>Activity Type</td>\n      <td>Activity Code</td>\n      <td>Activity Start Date</td>\n      <td>Activity End Date</td>\n      <td>Activity Status</td>\n      <td>Audiences Allowed to View the Activity</td>\n      <td>Audiences Allowed to Register</td>\n      <td>Audiences Assigned To Activity</td>\n      <td>Audience Association with Assignment Type</td>\n    </tr>\n    <tr>\n      <th>1</th>\n      <td>Global</td>\n      <td>Achieve Business Success (EE_27156)</td>\n      <td>ILT Class</td>\n      <td>EE_27156</td>\n      <td>2020-09-24 14:00:00</td>\n      <td>2020-09-24 23:00:00</td>\n      <td>Active</td>\n      <td>Illinois State</td>\n      <td>Illinois State</td>\n      <td>-</td>\n      <td>-</td>\n    </tr>\n    <tr>\n      <th>2</th>\n      <td>Global</td>\n      <td>Achieve Business Success (EE_27156)</td>\n      <td>ILT Class</td>\n      <td>EE_27156</td>\n      <td>2021-01-29 14:00:00</td>\n      <td>2021-01-29 23:00:00</td>\n      <td>Active</td>\n      <td>Illinois State</td>\n      <td>Illinois State</td>\n      <td>-</td>\n      <td>-</td>\n    </tr>\n    <tr>\n      <th>3</th>\n      <td>Global</td>\n      <td>Achieve Business Success (EE_27189)</td>\n      <td>ILT Class</td>\n      <td>EE_27189</td>\n      <td>2020-05-26 14:00:00</td>\n      <td>2020-05-26 23:00:00</td>\n      <td>Active</td>\n      <td>Customers Audience</td>\n      <td>Customers Audience</td>\n      <td>-</td>\n      <td>-</td>\n    </tr>\n    <tr>\n      <th>4</th>\n      <td>Global</td>\n      <td>Adapting to Change (adapt1)</td>\n      <td>ILT Class</td>\n      <td>adapt1</td>\n      <td>2021-01-29 18:35:00</td>\n      <td>2021-01-29 23:35:00</td>\n      <td>Active</td>\n      <td>Impact Inc. Audience</td>\n      <td>Impact Inc. Audience</td>\n      <td>-</td>\n      <td>-</td>\n    </tr>\n  </tbody>\n</table>\n</div>",
                        "text/plain": "        ACTIVITY AUDIENCES                           Unnamed: 1  \\\n0  Activity Primary Domain                        Activity Name   \n1                   Global  Achieve Business Success (EE_27156)   \n2                   Global  Achieve Business Success (EE_27156)   \n3                   Global  Achieve Business Success (EE_27189)   \n4                   Global          Adapting to Change (adapt1)   \n\n      Unnamed: 2     Unnamed: 3           Unnamed: 4           Unnamed: 5  \\\n0  Activity Type  Activity Code  Activity Start Date    Activity End Date   \n1      ILT Class       EE_27156  2020-09-24 14:00:00  2020-09-24 23:00:00   \n2      ILT Class       EE_27156  2021-01-29 14:00:00  2021-01-29 23:00:00   \n3      ILT Class       EE_27189  2020-05-26 14:00:00  2020-05-26 23:00:00   \n4      ILT Class         adapt1  2021-01-29 18:35:00  2021-01-29 23:35:00   \n\n        Unnamed: 6                              Unnamed: 7  \\\n0  Activity Status  Audiences Allowed to View the Activity   \n1           Active                          Illinois State   \n2           Active                          Illinois State   \n3           Active                      Customers Audience   \n4           Active                    Impact Inc. Audience   \n\n                      Unnamed: 8                      Unnamed: 9  \\\n0  Audiences Allowed to Register  Audiences Assigned To Activity   \n1                 Illinois State                               -   \n2                 Illinois State                               -   \n3             Customers Audience                               -   \n4           Impact Inc. Audience                               -   \n\n                                 Unnamed: 10  \n0  Audience Association with Assignment Type  \n1                                          -  \n2                                          -  \n3                                          -  \n4                                          -  "
                    },
                    "execution_count": 4,
                    "metadata": {},
                    "output_type": "execute_result"
                }
            ],
            "source": "# The code was removed by Watson Studio for sharing."
        }
    ],
    "metadata": {
        "kernelspec": {
            "display_name": "Python 3.6",
            "language": "python",
            "name": "python3"
        },
        "language_info": {
            "codemirror_mode": {
                "name": "ipython",
                "version": 3
            },
            "file_extension": ".py",
            "mimetype": "text/x-python",
            "name": "python",
            "nbconvert_exporter": "python",
            "pygments_lexer": "ipython3",
            "version": "3.6.9"
        }
    },
    "nbformat": 4,
    "nbformat_minor": 1
}